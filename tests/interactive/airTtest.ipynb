{
 "metadata": {
  "language_info": {
   "codemirror_mode": {
    "name": "ipython",
    "version": 3
   },
   "file_extension": ".py",
   "mimetype": "text/x-python",
   "name": "python",
   "nbconvert_exporter": "python",
   "pygments_lexer": "ipython3",
   "version": "3.8.7-final"
  },
  "orig_nbformat": 2,
  "kernelspec": {
   "name": "python3",
   "display_name": "Python 3.8.7 64-bit ('.env')",
   "metadata": {
    "interpreter": {
     "hash": "cb614c77f1c402b0848711e43ffbb24ec41a0e39098dc85dcf255c02f2a00957"
    }
   }
  }
 },
 "nbformat": 4,
 "nbformat_minor": 2,
 "cells": [
  {
   "source": [
    "## Interactive data testing - Air Temperature\n",
    "Interactively test data from data.csv. Use to both test wind algorithms and determine what data is needed."
   ],
   "cell_type": "markdown",
   "metadata": {}
  },
  {
   "cell_type": "code",
   "execution_count": 1,
   "metadata": {},
   "outputs": [],
   "source": [
    "#\"magic\" uses ipympl\n",
    "%matplotlib widget  \n",
    "import pandas as pd\n",
    "import matplotlib.pyplot as plt\n",
    "import envirodataqc as envqc"
   ]
  },
  {
   "source": [
    "### Load data.csv"
   ],
   "cell_type": "markdown",
   "metadata": {}
  },
  {
   "cell_type": "code",
   "execution_count": 2,
   "metadata": {},
   "outputs": [],
   "source": [
    "data = pd.read_csv('../data/data.csv', index_col='timestamp', parse_dates=True)"
   ]
  },
  {
   "cell_type": "code",
   "execution_count": null,
   "metadata": {},
   "outputs": [],
   "source": [
    "data.head()"
   ]
  },
  {
   "source": [
    "## Run check vals"
   ],
   "cell_type": "markdown",
   "metadata": {}
  },
  {
   "cell_type": "code",
   "execution_count": 3,
   "metadata": {},
   "outputs": [],
   "source": [
    "#Calculate flags on wind data\n",
    "airdata = envqc.check_vals(data[['temperature_C']].copy(),'air_temperature')\n"
   ]
  },
  {
   "cell_type": "code",
   "execution_count": 4,
   "metadata": {},
   "outputs": [],
   "source": [
    "airdata['maxflag'] = airdata[['flags_range','flags_rate','flags_flat']].max(1)"
   ]
  },
  {
   "cell_type": "code",
   "execution_count": 5,
   "metadata": {},
   "outputs": [],
   "source": [
    "suspdata = data.loc[airdata.maxflag == 1,'temperature_C']\n",
    "baddata = data.loc[airdata.maxflag ==2,'temperature_C']"
   ]
  },
  {
   "cell_type": "code",
   "execution_count": 6,
   "metadata": {},
   "outputs": [
    {
     "output_type": "display_data",
     "data": {
      "text/plain": "Canvas(toolbar=Toolbar(toolitems=[('Home', 'Reset original view', 'home', 'home'), ('Back', 'Back to previous …",
      "application/vnd.jupyter.widget-view+json": {
       "version_major": 2,
       "version_minor": 0,
       "model_id": "092b88a59be84ffc82cf7f5463ba2396"
      }
     },
     "metadata": {}
    }
   ],
   "source": [
    "fig, axs = plt.subplots(1,1)\n",
    "airdata['temperature_C'].plot(ax = axs)\n",
    "\n",
    "if(not suspdata.empty): suspdata.plot(ax=axs,style='*r')\n",
    "if(not baddata.empty): baddata.plot(ax=axs,style='*k')"
   ]
  },
  {
   "source": [
    "#### Flatlining\n",
    "* Flatlining sections correctly flagged as either suspicious or bad.\n",
    "* A short section of flatlining around 18:00 3/8 is correctly NOT labeled because it is short.\n",
    "#### Spiking\n",
    "* Current settings are less sensitive than I expected and it took some pretty good spikes to be identified as suspicious or bad.\n",
    "* A spike around noon 3/8 isn't flagged, but looks suspicious to me. Maybe the settings are too low?"
   ],
   "cell_type": "markdown",
   "metadata": {}
  },
  {
   "cell_type": "code",
   "execution_count": null,
   "metadata": {},
   "outputs": [],
   "source": []
  }
 ]
}