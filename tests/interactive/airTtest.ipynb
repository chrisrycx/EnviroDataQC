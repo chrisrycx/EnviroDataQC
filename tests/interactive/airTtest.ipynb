{
 "metadata": {
  "language_info": {
   "codemirror_mode": {
    "name": "ipython",
    "version": 3
   },
   "file_extension": ".py",
   "mimetype": "text/x-python",
   "name": "python",
   "nbconvert_exporter": "python",
   "pygments_lexer": "ipython3",
   "version": "3.8.7-final"
  },
  "orig_nbformat": 2,
  "kernelspec": {
   "name": "python3",
   "display_name": "Python 3.8.7 64-bit ('.env')",
   "metadata": {
    "interpreter": {
     "hash": "cb614c77f1c402b0848711e43ffbb24ec41a0e39098dc85dcf255c02f2a00957"
    }
   }
  }
 },
 "nbformat": 4,
 "nbformat_minor": 2,
 "cells": [
  {
   "source": [
    "## Interactive data testing - Air Temperature\n",
    "Interactively test air temperature data from data.csv."
   ],
   "cell_type": "markdown",
   "metadata": {}
  },
  {
   "cell_type": "code",
   "execution_count": 1,
   "metadata": {},
   "outputs": [],
   "source": [
    "#\"magic\" uses ipympl\n",
    "%matplotlib widget  \n",
    "import pandas as pd\n",
    "import matplotlib.pyplot as plt\n",
    "import envirodataqc as envqc"
   ]
  },
  {
   "source": [
    "### Load data.csv"
   ],
   "cell_type": "markdown",
   "metadata": {}
  },
  {
   "cell_type": "code",
   "execution_count": 2,
   "metadata": {},
   "outputs": [],
   "source": [
    "data = pd.read_csv('../data/data.csv', index_col='timestamp', parse_dates=True)"
   ]
  },
  {
   "cell_type": "code",
   "execution_count": 3,
   "metadata": {},
   "outputs": [
    {
     "output_type": "execute_result",
     "data": {
      "text/plain": [
       "                     temperature_C  humidity_%  pressure_mb  \\\n",
       "timestamp                                                     \n",
       "2021-03-07 00:00:00           -2.2        59.7        811.5   \n",
       "2021-03-07 00:10:00           -4.0        64.9        811.6   \n",
       "2021-03-07 00:20:00           -4.4        66.0        811.7   \n",
       "2021-03-07 00:30:00           -4.0        65.3        811.6   \n",
       "2021-03-07 00:40:00           -4.1        65.0        811.6   \n",
       "\n",
       "                     windspeed_10min_avg  winddir_10min_avg  \n",
       "timestamp                                                    \n",
       "2021-03-07 00:00:00                  1.2              179.1  \n",
       "2021-03-07 00:10:00                  2.1              288.1  \n",
       "2021-03-07 00:20:00                  2.4              317.2  \n",
       "2021-03-07 00:30:00                  2.3              319.2  \n",
       "2021-03-07 00:40:00                  2.0              320.2  "
      ],
      "text/html": "<div>\n<style scoped>\n    .dataframe tbody tr th:only-of-type {\n        vertical-align: middle;\n    }\n\n    .dataframe tbody tr th {\n        vertical-align: top;\n    }\n\n    .dataframe thead th {\n        text-align: right;\n    }\n</style>\n<table border=\"1\" class=\"dataframe\">\n  <thead>\n    <tr style=\"text-align: right;\">\n      <th></th>\n      <th>temperature_C</th>\n      <th>humidity_%</th>\n      <th>pressure_mb</th>\n      <th>windspeed_10min_avg</th>\n      <th>winddir_10min_avg</th>\n    </tr>\n    <tr>\n      <th>timestamp</th>\n      <th></th>\n      <th></th>\n      <th></th>\n      <th></th>\n      <th></th>\n    </tr>\n  </thead>\n  <tbody>\n    <tr>\n      <th>2021-03-07 00:00:00</th>\n      <td>-2.2</td>\n      <td>59.7</td>\n      <td>811.5</td>\n      <td>1.2</td>\n      <td>179.1</td>\n    </tr>\n    <tr>\n      <th>2021-03-07 00:10:00</th>\n      <td>-4.0</td>\n      <td>64.9</td>\n      <td>811.6</td>\n      <td>2.1</td>\n      <td>288.1</td>\n    </tr>\n    <tr>\n      <th>2021-03-07 00:20:00</th>\n      <td>-4.4</td>\n      <td>66.0</td>\n      <td>811.7</td>\n      <td>2.4</td>\n      <td>317.2</td>\n    </tr>\n    <tr>\n      <th>2021-03-07 00:30:00</th>\n      <td>-4.0</td>\n      <td>65.3</td>\n      <td>811.6</td>\n      <td>2.3</td>\n      <td>319.2</td>\n    </tr>\n    <tr>\n      <th>2021-03-07 00:40:00</th>\n      <td>-4.1</td>\n      <td>65.0</td>\n      <td>811.6</td>\n      <td>2.0</td>\n      <td>320.2</td>\n    </tr>\n  </tbody>\n</table>\n</div>"
     },
     "metadata": {},
     "execution_count": 3
    }
   ],
   "source": [
    "data.head()"
   ]
  },
  {
   "source": [
    "## Run check vals"
   ],
   "cell_type": "markdown",
   "metadata": {}
  },
  {
   "cell_type": "code",
   "execution_count": 4,
   "metadata": {},
   "outputs": [],
   "source": [
    "#Calculate flags on wind data\n",
    "airdata = envqc.check_vals(data[['temperature_C']].copy(),'air_temperature')\n"
   ]
  },
  {
   "cell_type": "code",
   "execution_count": 5,
   "metadata": {},
   "outputs": [],
   "source": [
    "airdata['maxflag'] = airdata[['flags_range','flags_rate','flags_flat']].max(1)"
   ]
  },
  {
   "cell_type": "code",
   "execution_count": 6,
   "metadata": {},
   "outputs": [],
   "source": [
    "suspdata = data.loc[airdata.maxflag == 1,'temperature_C']\n",
    "baddata = data.loc[airdata.maxflag ==2,'temperature_C']"
   ]
  },
  {
   "cell_type": "code",
   "execution_count": 7,
   "metadata": {},
   "outputs": [
    {
     "output_type": "display_data",
     "data": {
      "text/plain": "Canvas(toolbar=Toolbar(toolitems=[('Home', 'Reset original view', 'home', 'home'), ('Back', 'Back to previous …",
      "application/vnd.jupyter.widget-view+json": {
       "version_major": 2,
       "version_minor": 0,
       "model_id": "2d8e9276413a4e11a497ed1e87a30ed2"
      }
     },
     "metadata": {}
    }
   ],
   "source": [
    "fig, axs = plt.subplots(1,1)\n",
    "airdata['temperature_C'].plot(ax = axs)\n",
    "\n",
    "if(not suspdata.empty): suspdata.plot(ax=axs,style='*r')\n",
    "if(not baddata.empty): baddata.plot(ax=axs,style='*k')"
   ]
  },
  {
   "source": [
    "#### Flatlining\n",
    "* Flatlining sections correctly flagged as either suspicious or bad.\n",
    "* A short section of flatlining around 18:00 3/8 is correctly NOT labeled because it is short.\n",
    "#### Spiking\n",
    "* Current settings are less sensitive than I expected and it took some pretty good spikes to be identified as suspicious or bad.\n",
    "* A spike around noon 3/8 isn't flagged, but looks suspicious to me. Maybe the settings are too low?"
   ],
   "cell_type": "markdown",
   "metadata": {}
  },
  {
   "cell_type": "code",
   "execution_count": null,
   "metadata": {},
   "outputs": [],
   "source": []
  }
 ]
}