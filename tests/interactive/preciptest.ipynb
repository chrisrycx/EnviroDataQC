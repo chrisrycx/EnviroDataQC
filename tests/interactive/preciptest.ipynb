{
 "metadata": {
  "language_info": {
   "codemirror_mode": {
    "name": "ipython",
    "version": 3
   },
   "file_extension": ".py",
   "mimetype": "text/x-python",
   "name": "python",
   "nbconvert_exporter": "python",
   "pygments_lexer": "ipython3",
   "version": "3.8.7"
  },
  "orig_nbformat": 2,
  "kernelspec": {
   "name": "python3",
   "display_name": "Python 3.8.7 64-bit ('.env2': venv)",
   "metadata": {
    "interpreter": {
     "hash": "2552ac427982eeee67badddc55e602b3a97b875c2ec42e8cb654a4efad77a08d"
    }
   }
  }
 },
 "nbformat": 4,
 "nbformat_minor": 2,
 "cells": [
  {
   "source": [
    "## Interactive precip data testing\n",
    "Interactively test data from data.csv. "
   ],
   "cell_type": "markdown",
   "metadata": {}
  },
  {
   "cell_type": "code",
   "execution_count": 1,
   "metadata": {},
   "outputs": [],
   "source": [
    "#\"magic\" uses ipympl\n",
    "%matplotlib widget  \n",
    "import pandas as pd\n",
    "import matplotlib.pyplot as plt\n",
    "import envirodataqc as envqc"
   ]
  },
  {
   "source": [
    "### Load data.csv"
   ],
   "cell_type": "markdown",
   "metadata": {}
  },
  {
   "cell_type": "code",
   "execution_count": 2,
   "metadata": {},
   "outputs": [],
   "source": [
    "data = pd.read_csv('../data/data.csv', index_col='timestamp', parse_dates=True)"
   ]
  },
  {
   "cell_type": "code",
   "execution_count": 3,
   "metadata": {},
   "outputs": [
    {
     "output_type": "execute_result",
     "data": {
      "text/plain": [
       "                     temperature_C  humidity_%  pressure_mb  \\\n",
       "timestamp                                                     \n",
       "2021-03-07 00:00:00           -2.2        59.7        811.5   \n",
       "2021-03-07 00:10:00           -4.0        64.9        811.6   \n",
       "2021-03-07 00:20:00           -4.4        66.0        811.7   \n",
       "2021-03-07 00:30:00           -4.0        65.3        811.6   \n",
       "2021-03-07 00:40:00           -4.1        65.0        811.6   \n",
       "\n",
       "                     windspeed_10min_avg  winddir_10min_avg  rain_rate  \n",
       "timestamp                                                               \n",
       "2021-03-07 00:00:00                  1.2              179.1       0.00  \n",
       "2021-03-07 00:10:00                  2.1              288.1       0.00  \n",
       "2021-03-07 00:20:00                  2.4              317.2       0.06  \n",
       "2021-03-07 00:30:00                  2.3              319.2       0.00  \n",
       "2021-03-07 00:40:00                  2.0              320.2       0.00  "
      ],
      "text/html": "<div>\n<style scoped>\n    .dataframe tbody tr th:only-of-type {\n        vertical-align: middle;\n    }\n\n    .dataframe tbody tr th {\n        vertical-align: top;\n    }\n\n    .dataframe thead th {\n        text-align: right;\n    }\n</style>\n<table border=\"1\" class=\"dataframe\">\n  <thead>\n    <tr style=\"text-align: right;\">\n      <th></th>\n      <th>temperature_C</th>\n      <th>humidity_%</th>\n      <th>pressure_mb</th>\n      <th>windspeed_10min_avg</th>\n      <th>winddir_10min_avg</th>\n      <th>rain_rate</th>\n    </tr>\n    <tr>\n      <th>timestamp</th>\n      <th></th>\n      <th></th>\n      <th></th>\n      <th></th>\n      <th></th>\n      <th></th>\n    </tr>\n  </thead>\n  <tbody>\n    <tr>\n      <th>2021-03-07 00:00:00</th>\n      <td>-2.2</td>\n      <td>59.7</td>\n      <td>811.5</td>\n      <td>1.2</td>\n      <td>179.1</td>\n      <td>0.00</td>\n    </tr>\n    <tr>\n      <th>2021-03-07 00:10:00</th>\n      <td>-4.0</td>\n      <td>64.9</td>\n      <td>811.6</td>\n      <td>2.1</td>\n      <td>288.1</td>\n      <td>0.00</td>\n    </tr>\n    <tr>\n      <th>2021-03-07 00:20:00</th>\n      <td>-4.4</td>\n      <td>66.0</td>\n      <td>811.7</td>\n      <td>2.4</td>\n      <td>317.2</td>\n      <td>0.06</td>\n    </tr>\n    <tr>\n      <th>2021-03-07 00:30:00</th>\n      <td>-4.0</td>\n      <td>65.3</td>\n      <td>811.6</td>\n      <td>2.3</td>\n      <td>319.2</td>\n      <td>0.00</td>\n    </tr>\n    <tr>\n      <th>2021-03-07 00:40:00</th>\n      <td>-4.1</td>\n      <td>65.0</td>\n      <td>811.6</td>\n      <td>2.0</td>\n      <td>320.2</td>\n      <td>0.00</td>\n    </tr>\n  </tbody>\n</table>\n</div>"
     },
     "metadata": {},
     "execution_count": 3
    }
   ],
   "source": [
    "data.head()"
   ]
  },
  {
   "source": [
    "## Extract precip values and check values"
   ],
   "cell_type": "markdown",
   "metadata": {}
  },
  {
   "cell_type": "code",
   "execution_count": 4,
   "metadata": {},
   "outputs": [],
   "source": [
    "precip = envqc.check_vals(data[['rain_rate']].copy(),'precipitation')"
   ]
  },
  {
   "cell_type": "code",
   "execution_count": 5,
   "metadata": {},
   "outputs": [
    {
     "output_type": "execute_result",
     "data": {
      "text/plain": [
       "                     rain_rate  flags_range  flags_rate  flags_flat\n",
       "timestamp                                                          \n",
       "2021-03-07 00:00:00       0.00            0           0           0\n",
       "2021-03-07 00:10:00       0.00            0           0           0\n",
       "2021-03-07 00:20:00       0.06            0           0           0\n",
       "2021-03-07 00:30:00       0.00            0           0           0\n",
       "2021-03-07 00:40:00       0.00            0           0           0"
      ],
      "text/html": "<div>\n<style scoped>\n    .dataframe tbody tr th:only-of-type {\n        vertical-align: middle;\n    }\n\n    .dataframe tbody tr th {\n        vertical-align: top;\n    }\n\n    .dataframe thead th {\n        text-align: right;\n    }\n</style>\n<table border=\"1\" class=\"dataframe\">\n  <thead>\n    <tr style=\"text-align: right;\">\n      <th></th>\n      <th>rain_rate</th>\n      <th>flags_range</th>\n      <th>flags_rate</th>\n      <th>flags_flat</th>\n    </tr>\n    <tr>\n      <th>timestamp</th>\n      <th></th>\n      <th></th>\n      <th></th>\n      <th></th>\n    </tr>\n  </thead>\n  <tbody>\n    <tr>\n      <th>2021-03-07 00:00:00</th>\n      <td>0.00</td>\n      <td>0</td>\n      <td>0</td>\n      <td>0</td>\n    </tr>\n    <tr>\n      <th>2021-03-07 00:10:00</th>\n      <td>0.00</td>\n      <td>0</td>\n      <td>0</td>\n      <td>0</td>\n    </tr>\n    <tr>\n      <th>2021-03-07 00:20:00</th>\n      <td>0.06</td>\n      <td>0</td>\n      <td>0</td>\n      <td>0</td>\n    </tr>\n    <tr>\n      <th>2021-03-07 00:30:00</th>\n      <td>0.00</td>\n      <td>0</td>\n      <td>0</td>\n      <td>0</td>\n    </tr>\n    <tr>\n      <th>2021-03-07 00:40:00</th>\n      <td>0.00</td>\n      <td>0</td>\n      <td>0</td>\n      <td>0</td>\n    </tr>\n  </tbody>\n</table>\n</div>"
     },
     "metadata": {},
     "execution_count": 5
    }
   ],
   "source": [
    "precip.head()"
   ]
  },
  {
   "cell_type": "code",
   "execution_count": 6,
   "metadata": {},
   "outputs": [],
   "source": [
    "precip['maxflag'] = precip[['flags_range','flags_rate','flags_flat']].max(1)"
   ]
  },
  {
   "cell_type": "code",
   "execution_count": 7,
   "metadata": {},
   "outputs": [],
   "source": [
    "suspdata = precip.loc[precip.maxflag == 1,'rain_rate']\n",
    "baddata = precip.loc[precip.maxflag ==2,'rain_rate']"
   ]
  },
  {
   "cell_type": "code",
   "execution_count": 8,
   "metadata": {},
   "outputs": [
    {
     "output_type": "display_data",
     "data": {
      "text/plain": "Canvas(toolbar=Toolbar(toolitems=[('Home', 'Reset original view', 'home', 'home'), ('Back', 'Back to previous …",
      "application/vnd.jupyter.widget-view+json": {
       "version_major": 2,
       "version_minor": 0,
       "model_id": "81e1143d785449da9bb85578cdd718bc"
      }
     },
     "metadata": {}
    }
   ],
   "source": [
    "fig, axs = plt.subplots(1,1)\n",
    "precip['rain_rate'].plot(ax = axs)\n",
    "\n",
    "if(not suspdata.empty): suspdata.plot(ax=axs,style='*r')\n",
    "if(not baddata.empty): baddata.plot(ax=axs,style='*k')"
   ]
  },
  {
   "cell_type": "code",
   "execution_count": null,
   "metadata": {},
   "outputs": [],
   "source": []
  }
 ]
}