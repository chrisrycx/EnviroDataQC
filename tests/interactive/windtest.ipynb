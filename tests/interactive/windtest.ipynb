{
 "metadata": {
  "language_info": {
   "codemirror_mode": {
    "name": "ipython",
    "version": 3
   },
   "file_extension": ".py",
   "mimetype": "text/x-python",
   "name": "python",
   "nbconvert_exporter": "python",
   "pygments_lexer": "ipython3",
   "version": "3.8.7-final"
  },
  "orig_nbformat": 2,
  "kernelspec": {
   "name": "python3",
   "display_name": "Python 3.8.7 64-bit ('.env')",
   "metadata": {
    "interpreter": {
     "hash": "cb614c77f1c402b0848711e43ffbb24ec41a0e39098dc85dcf255c02f2a00957"
    }
   }
  }
 },
 "nbformat": 4,
 "nbformat_minor": 2,
 "cells": [
  {
   "source": [
    "## Interactive wind data testing\n",
    "Interactively test data from data.csv. Use to both test wind algorithms and determine what data is needed."
   ],
   "cell_type": "markdown",
   "metadata": {}
  },
  {
   "cell_type": "code",
   "execution_count": 1,
   "metadata": {},
   "outputs": [],
   "source": [
    "#\"magic\" uses ipympl\n",
    "%matplotlib widget  \n",
    "import pandas as pd\n",
    "import matplotlib.pyplot as plt\n",
    "import envirodataqc as envqc"
   ]
  },
  {
   "source": [
    "### Load data.csv"
   ],
   "cell_type": "markdown",
   "metadata": {}
  },
  {
   "cell_type": "code",
   "execution_count": 2,
   "metadata": {},
   "outputs": [],
   "source": [
    "data = pd.read_csv('../data/data.csv', index_col='timestamp', parse_dates=True)"
   ]
  },
  {
   "cell_type": "code",
   "execution_count": 3,
   "metadata": {},
   "outputs": [
    {
     "output_type": "execute_result",
     "data": {
      "text/plain": [
       "                     temperature_C  humidity_%  pressure_mb  \\\n",
       "timestamp                                                     \n",
       "2021-03-07 00:00:00           -2.2        59.7        811.5   \n",
       "2021-03-07 00:10:00           -4.0        64.9        811.6   \n",
       "2021-03-07 00:20:00           -4.4        66.0        811.7   \n",
       "2021-03-07 00:30:00           -4.0        65.3        811.6   \n",
       "2021-03-07 00:40:00           -4.1        65.0        811.6   \n",
       "\n",
       "                     windspeed_10min_avg  winddir_10min_avg  \n",
       "timestamp                                                    \n",
       "2021-03-07 00:00:00                  1.2              179.1  \n",
       "2021-03-07 00:10:00                  2.1              288.1  \n",
       "2021-03-07 00:20:00                  2.4              317.2  \n",
       "2021-03-07 00:30:00                  2.3              319.2  \n",
       "2021-03-07 00:40:00                  2.0              320.2  "
      ],
      "text/html": "<div>\n<style scoped>\n    .dataframe tbody tr th:only-of-type {\n        vertical-align: middle;\n    }\n\n    .dataframe tbody tr th {\n        vertical-align: top;\n    }\n\n    .dataframe thead th {\n        text-align: right;\n    }\n</style>\n<table border=\"1\" class=\"dataframe\">\n  <thead>\n    <tr style=\"text-align: right;\">\n      <th></th>\n      <th>temperature_C</th>\n      <th>humidity_%</th>\n      <th>pressure_mb</th>\n      <th>windspeed_10min_avg</th>\n      <th>winddir_10min_avg</th>\n    </tr>\n    <tr>\n      <th>timestamp</th>\n      <th></th>\n      <th></th>\n      <th></th>\n      <th></th>\n      <th></th>\n    </tr>\n  </thead>\n  <tbody>\n    <tr>\n      <th>2021-03-07 00:00:00</th>\n      <td>-2.2</td>\n      <td>59.7</td>\n      <td>811.5</td>\n      <td>1.2</td>\n      <td>179.1</td>\n    </tr>\n    <tr>\n      <th>2021-03-07 00:10:00</th>\n      <td>-4.0</td>\n      <td>64.9</td>\n      <td>811.6</td>\n      <td>2.1</td>\n      <td>288.1</td>\n    </tr>\n    <tr>\n      <th>2021-03-07 00:20:00</th>\n      <td>-4.4</td>\n      <td>66.0</td>\n      <td>811.7</td>\n      <td>2.4</td>\n      <td>317.2</td>\n    </tr>\n    <tr>\n      <th>2021-03-07 00:30:00</th>\n      <td>-4.0</td>\n      <td>65.3</td>\n      <td>811.6</td>\n      <td>2.3</td>\n      <td>319.2</td>\n    </tr>\n    <tr>\n      <th>2021-03-07 00:40:00</th>\n      <td>-4.1</td>\n      <td>65.0</td>\n      <td>811.6</td>\n      <td>2.0</td>\n      <td>320.2</td>\n    </tr>\n  </tbody>\n</table>\n</div>"
     },
     "metadata": {},
     "execution_count": 3
    }
   ],
   "source": [
    "data.head()"
   ]
  },
  {
   "source": [
    "## Extract wind data and check vals"
   ],
   "cell_type": "markdown",
   "metadata": {}
  },
  {
   "cell_type": "code",
   "execution_count": 4,
   "metadata": {},
   "outputs": [],
   "source": [
    "#Calculate flags on wind data\n",
    "windsp = envqc.check_vals(data[['windspeed_10min_avg']].copy(),'wind_speed')\n",
    "winddir = envqc.check_vals(data[['winddir_10min_avg']].copy(),'wind_direction')\n"
   ]
  },
  {
   "cell_type": "code",
   "execution_count": 5,
   "metadata": {},
   "outputs": [],
   "source": [
    "windsp['maxflag'] = windsp[['flags_range','flags_rate','flags_flat']].max(1)\n",
    "winddir['maxflag'] = winddir[['flags_range','flags_rate','flags_flat']].max(1)"
   ]
  },
  {
   "cell_type": "code",
   "execution_count": 6,
   "metadata": {},
   "outputs": [],
   "source": [
    "windsp_susp = windsp.loc[windsp.maxflag == 1,'windspeed_10min_avg']\n",
    "windsp_bad = windsp.loc[windsp.maxflag ==2,'windspeed_10min_avg']\n",
    "winddir_susp = winddir.loc[winddir.maxflag == 1,'winddir_10min_avg']\n",
    "winddir_bad = winddir.loc[winddir.maxflag == 2,'winddir_10min_avg']"
   ]
  },
  {
   "cell_type": "code",
   "execution_count": 23,
   "metadata": {},
   "outputs": [
    {
     "output_type": "display_data",
     "data": {
      "text/plain": "Canvas(toolbar=Toolbar(toolitems=[('Home', 'Reset original view', 'home', 'home'), ('Back', 'Back to previous …",
      "application/vnd.jupyter.widget-view+json": {
       "version_major": 2,
       "version_minor": 0,
       "model_id": "c7169f601b7a418981daff96d8ecca1e"
      }
     },
     "metadata": {}
    }
   ],
   "source": [
    "fig, axs = plt.subplots(2,1,sharex=True)\n",
    "windsp['windspeed_10min_avg'].plot(ax = axs[0])\n",
    "winddir['winddir_10min_avg'].plot(ax = axs[1])\n",
    "wind_susp = windsp.loc[windsp.maxflag > 0,'windspeed_10min_avg']\n",
    "wind_bad = windsp.loc[windsp.maxflag > 0,'windspeed_10min_avg']\n",
    "\n",
    "if(not windsp_susp.empty): windsp_susp.plot(ax=axs[0],style='*r')\n",
    "if(not windsp_bad.empty): windsp_bad.plot(ax=axs[0],style='*k')\n",
    "if(not winddir_susp.empty): winddir_susp.plot(ax=axs[1],style='*r')\n",
    "if(not winddir_bad.empty): winddir_bad.plot(ax=axs[1],style='*k')"
   ]
  },
  {
   "source": [
    "#### General\n",
    "* Check vals is correctly identifying suspicious or bad flatlining in input data. The section of unflagged wind direction data near 11:00 3/7 is actually just changing by very small amounts.\n",
    "#### Focus on 3/8 around 6:00\n",
    "* There are two zero wind sections here. Both are not flagged because 0 wind is ignored.\n",
    "* There is a very short section of flatlined direction data starting at 9:00. It isn't flagged because it is too short."
   ],
   "cell_type": "markdown",
   "metadata": {}
  },
  {
   "source": [
    "## Assess wind specific algorithms"
   ],
   "cell_type": "markdown",
   "metadata": {}
  },
  {
   "cell_type": "code",
   "execution_count": 8,
   "metadata": {},
   "outputs": [],
   "source": [
    "from envirodataqc import wind"
   ]
  },
  {
   "cell_type": "code",
   "execution_count": 9,
   "metadata": {},
   "outputs": [],
   "source": [
    "windsp['flags_special'] = wind.check_windsp_withdir(\n",
    "    data['windspeed_10min_avg'].to_numpy(),\n",
    "    data['winddir_10min_avg'].to_numpy()\n",
    ")"
   ]
  },
  {
   "cell_type": "code",
   "execution_count": 12,
   "metadata": {},
   "outputs": [],
   "source": [
    "winddir['flags_special'] = wind.check_winddir_withsp(\n",
    "    data['windspeed_10min_avg'].to_numpy(),\n",
    "    data['winddir_10min_avg'].to_numpy()\n",
    ")"
   ]
  },
  {
   "cell_type": "code",
   "execution_count": 17,
   "metadata": {},
   "outputs": [],
   "source": [
    "windsp_susp2 = data.loc[windsp.flags_special == 1,'windspeed_10min_avg']\n",
    "winddir_susp2 = data.loc[winddir.flags_special == 1,'winddir_10min_avg']"
   ]
  },
  {
   "cell_type": "code",
   "execution_count": 22,
   "metadata": {},
   "outputs": [
    {
     "output_type": "display_data",
     "data": {
      "text/plain": "Canvas(toolbar=Toolbar(toolitems=[('Home', 'Reset original view', 'home', 'home'), ('Back', 'Back to previous …",
      "application/vnd.jupyter.widget-view+json": {
       "version_major": 2,
       "version_minor": 0,
       "model_id": "4516d6b7236b4000959aaf6ebd4aa369"
      }
     },
     "metadata": {}
    }
   ],
   "source": [
    "fig2, axs2 = plt.subplots(2,1,sharex=True)\n",
    "data['windspeed_10min_avg'].plot(ax = axs2[0])\n",
    "data['winddir_10min_avg'].plot(ax = axs2[1])\n",
    "\n",
    "if(not windsp_susp2.empty): windsp_susp2.plot(ax=axs2[0],style='*r')\n",
    "if(not winddir_susp2.empty): winddir_susp2.plot(ax=axs2[1],style='*r')"
   ]
  },
  {
   "source": [
    "* Small sections of direction data flatlining (near 00:00 3/7 and 10:00 3/8) are correctly flagged because wind speed is above zero.\n",
    "* A section of zero wind near 6:00 3/8 is flagged because direction data is changing.\n",
    "* Another near by section of zero wind is not flagged because direction data is also flat."
   ],
   "cell_type": "markdown",
   "metadata": {}
  },
  {
   "cell_type": "code",
   "execution_count": null,
   "metadata": {},
   "outputs": [],
   "source": []
  }
 ]
}